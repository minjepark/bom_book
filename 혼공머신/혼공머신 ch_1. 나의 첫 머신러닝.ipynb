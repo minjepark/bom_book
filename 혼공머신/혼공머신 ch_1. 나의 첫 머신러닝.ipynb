{
 "cells": [
  {
   "cell_type": "markdown",
   "metadata": {},
   "source": [
    "## 머신러닝 개발자란? 머신러닝 알고리즘을 이해하고 사용할 수 있어야 하는 사람입니다!!! 할 수 있다!ㅎ\n",
    "\n",
    "### 머신러닝이란?\n",
    "\n",
    "규칙을 일일이 프로그래밍 하지 않아도 자동으로 데이터에서 규칙을 학습하는 알고리즘을 연구하는 분야입니다. \n",
    "\n",
    "+ 사이킷런: 머신러닝 대표 오픈 라이브러리 그래서 머신러닝 모델은 사이킷런에서 많이 불러 왔다는 걸 알았음.   \n",
    "\n",
    "### 딥러닝이란? \n",
    "\n",
    "+ 신경망의 개념을 도입. 각각의 은닉층들이 있는데 이런거를 말하는 거임. 그리고 얀르쿤이 처음에 lenet-5를 개발하여 최초의 합성곱 신경망cnn을 만듬. \n",
    "+ tensorflow, tytorch: 딥러닝 대표 오플 라이브러리 "
   ]
  },
  {
   "cell_type": "markdown",
   "metadata": {},
   "source": [
    "### COLAB \n",
    "\n",
    "+ 구글 드라이브에 저장됨. \n",
    "+ 최대 5개의 노트북만 사용가능.  \n",
    "+ 12시간 돌릴 수 있음.\n",
    "+ 고사양으로 쓰고 싶다면 코랩 프로 월 1만원정도? 그리고 24시간 돌리기 가능.\n",
    "+ 코랩프로는 현재 미국과 캐나다에서만 가입이 가능함. \n",
    "\n",
    "### 마크다운 문법 \n",
    "\n",
    "`~~혼공머신~~` : 물결은 삭제 표시/ 쥬피터에서 가능한지도 봐야겠당. 가능함 \n",
    "\n",
    "`_혼공머신_`: 이텔릭체 \n",
    "\n",
    "`>혼공머신`: 들여쓰기\n",
    "\n",
    "~~혼공머신~~\n",
    "_혼공머신_"
   ]
  },
  {
   "cell_type": "markdown",
   "metadata": {},
   "source": [
    "# 01-3 마켓과 머신러닝 \n",
    "\n",
    "## 오늘의 미션! 생선이름을 못 외우는 물류팀 직원을 돕기 위해 자동으로 생선이름 알려주는 머신러닝 만들기! "
   ]
  },
  {
   "cell_type": "markdown",
   "metadata": {},
   "source": [
    "### 생선 분류 문제 \n",
    "\n",
    "1) 생선의 특징을 찾는다.  \n",
    ">+ 생선이 30cm가 넘으면 도미\n",
    "\n",
    "**문제점**  \n",
    "30cm가 넘어도 도미일 수 있잖아요!   \n",
    "머신러닝은 정해준 기준이 아니라 스스로 기준을 찾아가는 것입니다! 누가 말해주지 않아도 '도미는 길이가 30cm 이상이네~' 라고 알고, 생선이 도미인지 아닌지도 판별해줍니다.\n",
    "\n",
    "**머신러닝은 스스로 기준을 만들고 찾는다**\n",
    "\n",
    "### 주의사항\n",
    "\n",
    "* 코랩과 구글클라우드가 연결이 끊긴 후 다시 연결하면 패키지를 새로 Import해야합니다.   \n",
    "* scikit-learn은 머신러닝 패키지이며 2차원 리스트로 변환해야 합니다. \n",
    "* 찾으려는 대상을 1로 두고, 그 외는 0으로 둡니다. \n",
    "* fit(), predict()는 list의 list를 전달해야 합니다. \n",
    "* 한 셀에 여러 명령줄을 넣어도 마지막 실행코드의 반환값만 출력됩니다. 모두 출력하고 싶다면 셀을 나누거나, 아니면 print()함수를 사용하세요. \n",
    "\n",
    "### 용어정리\n",
    "\n",
    "**특성**: 데이터의 특징(도미의 무게와 길이)\n",
    "\n",
    "**scatter plot**: 산점도 그래프\n",
    "**maplotlib**: 과학계산용 그래프를 그리는 대표적인 패키지\n",
    "**import**: 따로 만들어둔 파이썬 패키지를 사용하기 위해 불러오는 명령 \n",
    "**linear**: 산점도 그래프가 일직선에 가까운 형태로 나타나는 경우  \n",
    "**함수**: 특정기능을 실행하는 명령의 코드 모음 \n",
    "**2차원리스트(리스트의 리스트)**: 리스트 안에 리스트가 있는 것, 하나의 리스트를 구성하는 여러개의 리스트가 있는 리스트 \n",
    "**fit**: 규칙을 찾기위해 학습시킬 때 사용하는 method입니다.\n",
    "**accuracy**: 여기서는 fit method를 사용하고 나온 결과를 나타냅니다. \n",
    "**train**: 모델에 데이터를 전달하여 규칙을 찾도록 학습시키는 과정을 train이라고 합니다.    \n",
    "**model**:  머신러닝 알고리즘을 구현한 프로그램\n",
    "**predict**: 새로운 데이터의 정답을 예측합니다. \n",
    "\n",
    "\n",
    "### KNN 알고리즘 \n",
    "\n",
    "* 새로운 input 데이터에 대한 답을 구할 때 주위의 다른 데이터를 보고 다수를 차지하는 것을 정답으로 사용합니다.     \n",
    "* 근묵자흑과 같이 주위의 데이터를 보고 새로운데이터를 판단합니다.   \n",
    "* 가장 가까운 직선거리에 어떤 데이터가 있는지를 확인하고 예측합니다. \n",
    "* 가까운 데이터를 몇 개로 지정할 지는 정하기 나름이다. \n",
    "\n",
    "**필요사항**: 모든 데이터를 가지고 있어야 합니다. \n",
    "**단점**: 데이터가 아주 많은 경우 사용하기 어렵습니다. \n",
    "        * 데이터가 크기 때문에 메모리가 많이 필요합니다. \n",
    "        * 직선거리를 사용하는데 시간이 많이 소모됩니다. "
   ]
  },
  {
   "cell_type": "code",
   "execution_count": null,
   "metadata": {},
   "outputs": [],
   "source": [
    "if fish_length >= 30:\n",
    "    print('도미입니다.')"
   ]
  },
  {
   "cell_type": "code",
   "execution_count": 1,
   "metadata": {},
   "outputs": [],
   "source": [
    "bream_length = [25.4, 26.3, 26.5, 29.0, 29.0, 29.7, 29.7, 30.0, 30.0, 30.7, 31.0, 31.0, \n",
    "                31.5, 32.0, 32.0, 32.0, 33.0, 33.0, 33.5, 33.5, 34.0, 34.0, 34.5, 35.0, \n",
    "                35.0, 35.0, 35.0, 36.0, 36.0, 37.0, 38.5, 38.5, 39.5, 41.0, 41.0]\n",
    "bream_weight = [242.0, 290.0, 340.0, 363.0, 430.0, 450.0, 500.0, 390.0, 450.0, 500.0, 475.0, 500.0, \n",
    "                500.0, 340.0, 600.0, 600.0, 700.0, 700.0, 610.0, 650.0, 575.0, 685.0, 620.0, 680.0, \n",
    "                700.0, 725.0, 720.0, 714.0, 850.0, 1000.0, 920.0, 955.0, 925.0, 975.0, 950.0]\n"
   ]
  },
  {
   "cell_type": "code",
   "execution_count": 3,
   "metadata": {},
   "outputs": [
    {
     "data": {
      "image/png": "[encoded data removed]",
      "text/plain": [
       "<Figure size 432x288 with 1 Axes>"
      ]
     },
     "metadata": {
      "needs_background": "light"
     },
     "output_type": "display_data"
    }
   ],
   "source": [
    "#산점도로 나타내기 \n",
    "#2개의 특성을 사용한 2차원 그래프 \n",
    "import matplotlib.pyplot as plt\n",
    "\n",
    "plt.scatter(bream_length,bream_weight)\n",
    "plt.xlabel('length')\n",
    "plt.ylabel('weight')\n",
    "plt.show()\n"
   ]
  },
  {
   "cell_type": "code",
   "execution_count": 4,
   "metadata": {},
   "outputs": [],
   "source": [
    "#빙어데이터 준비하기 \n",
    "smelt_length = [9.8, 10.5, 10.6, 11.0, 11.2, 11.3, 11.8, 11.8, 12.0, 12.2, 12.4, 13.0, 14.3, 15.0]\n",
    "smelt_weight = [6.7, 7.5, 7.0, 9.7, 9.8, 8.7, 10.0, 9.9, 9.8, 12.2, 13.4, 12.2, 19.7, 19.9]"
   ]
  },
  {
   "cell_type": "code",
   "execution_count": 5,
   "metadata": {},
   "outputs": [
    {
     "data": {
      "image/png": "[encoded data removed]",
      "text/plain": [
       "<Figure size 432x288 with 1 Axes>"
      ]
     },
     "metadata": {
      "needs_background": "light"
     },
     "output_type": "display_data"
    }
   ],
   "source": [
    "plt.scatter(smelt_length, smelt_weight)\n",
    "plt.xlabel('length')\n",
    "plt.ylabel('weight')\n",
    "plt.show()"
   ]
  },
  {
   "cell_type": "code",
   "execution_count": 7,
   "metadata": {},
   "outputs": [
    {
     "data": {
      "image/png": "[encoded data removed]",
      "text/plain": [
       "<Figure size 432x288 with 1 Axes>"
      ]
     },
     "metadata": {
      "needs_background": "light"
     },
     "output_type": "display_data"
    }
   ],
   "source": [
    "# 한그래프에 산점도 같이 그리기 \n",
    "plt.scatter(smelt_length, smelt_weight)\n",
    "plt.scatter(bream_length, bream_weight)\n",
    "plt.xlabel('length')\n",
    "plt.ylabel('weight')\n",
    "plt.show()"
   ]
  },
  {
   "cell_type": "code",
   "execution_count": 8,
   "metadata": {},
   "outputs": [],
   "source": [
    "#두개의 특성을 섞어서 하나의 리스트로 묶기 \n",
    "length = bream_length + smelt_length\n",
    "weight = bream_weight + smelt_weight"
   ]
  },
  {
   "cell_type": "code",
   "execution_count": 12,
   "metadata": {},
   "outputs": [],
   "source": [
    "#zip과 list comprehension을 통해서 lengh와 weight 리스트를 2차원으로 만들어줍니다. \n",
    "#scikit_learn은 2차원리스트가 필요하기 때문입니다. \n",
    "#zip() 나열된 리스트에서 원소를 하나씩 꺼내줍니다. \n",
    "fish_data = [[l,w] for l,w in zip(length, weight)]\n"
   ]
  },
  {
   "cell_type": "code",
   "execution_count": 13,
   "metadata": {},
   "outputs": [
    {
     "name": "stdout",
     "output_type": "stream",
     "text": [
      "[[25.4, 242.0], [26.3, 290.0], [26.5, 340.0], [29.0, 363.0], [29.0, 430.0], [29.7, 450.0], [29.7, 500.0], [30.0, 390.0], [30.0, 450.0], [30.7, 500.0], [31.0, 475.0], [31.0, 500.0], [31.5, 500.0], [32.0, 340.0], [32.0, 600.0], [32.0, 600.0], [33.0, 700.0], [33.0, 700.0], [33.5, 610.0], [33.5, 650.0], [34.0, 575.0], [34.0, 685.0], [34.5, 620.0], [35.0, 680.0], [35.0, 700.0], [35.0, 725.0], [35.0, 720.0], [36.0, 714.0], [36.0, 850.0], [37.0, 1000.0], [38.5, 920.0], [38.5, 955.0], [39.5, 925.0], [41.0, 975.0], [41.0, 950.0], [9.8, 6.7], [10.5, 7.5], [10.6, 7.0], [11.0, 9.7], [11.2, 9.8], [11.3, 8.7], [11.8, 10.0], [11.8, 9.9], [12.0, 9.8], [12.2, 12.2], [12.4, 13.4], [13.0, 12.2], [14.3, 19.7], [15.0, 19.9]]\n"
     ]
    }
   ],
   "source": [
    "print(fish_data)\n",
    "#fish_data만 치면 2차원 배열 리스트로 쭉...나열되는데 print()함수에 넣어서 쓰니깐 연달아서 나온다. 줄바꿈없이 한 줄로 출력됩니다. "
   ]
  },
  {
   "cell_type": "code",
   "execution_count": 16,
   "metadata": {},
   "outputs": [
    {
     "name": "stdout",
     "output_type": "stream",
     "text": [
      "[1, 1, 1, 1, 1, 1, 1, 1, 1, 1, 1, 1, 1, 1, 1, 1, 1, 1, 1, 1, 1, 1, 1, 1, 1, 1, 1, 1, 1, 1, 1, 1, 1, 1, 1, 0, 0, 0, 0, 0, 0, 0, 0, 0, 0, 0, 0, 0, 0]\n"
     ]
    }
   ],
   "source": [
    "#특성에 대한 데이터 준비완료!\n",
    "#정답을 주어야 합니다. \n",
    "#특성만 보고 어떤 생선인지 맞추려면 규칙을 찾아야 합니다. \n",
    "#컴퓨터는 문자를 직접이해하지 못하니 숫자로 표현해줍니다. \n",
    "#도미 1,빙어0\n",
    "fish_target = [1]*35 + [0]*14\n",
    "print(fish_target)\n"
   ]
  },
  {
   "cell_type": "code",
   "execution_count": 20,
   "metadata": {},
   "outputs": [],
   "source": [
    "#k-nearest neighborhood knn알고리즘 사용\n",
    "from sklearn.neighbors import KNeighborsClassifier\n",
    "#class의 객체 만들기 kn으로 만들게요!abs\n",
    "kn = KNeighborsClassifier()  "
   ]
  },
  {
   "cell_type": "code",
   "execution_count": 21,
   "metadata": {},
   "outputs": [
    {
     "data": {
      "text/plain": [
       "KNeighborsClassifier()"
      ]
     },
     "execution_count": 21,
     "metadata": {},
     "output_type": "execute_result"
    }
   ],
   "source": [
    "#fish_Data와 fish_target을 주고 구분하는 규칙을 찾게 학습시킬게요! 이걸 train이라고 할게요!\n",
    "kn.fit(fish_data, fish_target)"
   ]
  },
  {
   "cell_type": "code",
   "execution_count": 29,
   "metadata": {},
   "outputs": [
    {
     "data": {
      "text/plain": [
       "1.0"
      ]
     },
     "execution_count": 29,
     "metadata": {},
     "output_type": "execute_result"
    }
   ],
   "source": [
    "#scikit_learn에서 모델을 평가하는 method는 score()입니다. \n",
    "#0~1사이의 값을 반환합니다.  score가 1이면 모든 데이터를 정확히 맞췄다는 이야기입니다. \n",
    "kn.score(fish_data, fish_target)"
   ]
  },
  {
   "cell_type": "code",
   "execution_count": 25,
   "metadata": {},
   "outputs": [
    {
     "data": {
      "text/plain": [
       "array([1])"
      ]
     },
     "execution_count": 25,
     "metadata": {},
     "output_type": "execute_result"
    }
   ],
   "source": [
    "#새로운 데이터를 훈련된 모델에 넣어 예측하도록 하겠습니다. \n",
    "kn.predict([[30,180]])"
   ]
  },
  {
   "cell_type": "code",
   "execution_count": 26,
   "metadata": {},
   "outputs": [
    {
     "name": "stdout",
     "output_type": "stream",
     "text": [
      "[[  25.4  242. ]\n",
      " [  26.3  290. ]\n",
      " [  26.5  340. ]\n",
      " [  29.   363. ]\n",
      " [  29.   430. ]\n",
      " [  29.7  450. ]\n",
      " [  29.7  500. ]\n",
      " [  30.   390. ]\n",
      " [  30.   450. ]\n",
      " [  30.7  500. ]\n",
      " [  31.   475. ]\n",
      " [  31.   500. ]\n",
      " [  31.5  500. ]\n",
      " [  32.   340. ]\n",
      " [  32.   600. ]\n",
      " [  32.   600. ]\n",
      " [  33.   700. ]\n",
      " [  33.   700. ]\n",
      " [  33.5  610. ]\n",
      " [  33.5  650. ]\n",
      " [  34.   575. ]\n",
      " [  34.   685. ]\n",
      " [  34.5  620. ]\n",
      " [  35.   680. ]\n",
      " [  35.   700. ]\n",
      " [  35.   725. ]\n",
      " [  35.   720. ]\n",
      " [  36.   714. ]\n",
      " [  36.   850. ]\n",
      " [  37.  1000. ]\n",
      " [  38.5  920. ]\n",
      " [  38.5  955. ]\n",
      " [  39.5  925. ]\n",
      " [  41.   975. ]\n",
      " [  41.   950. ]\n",
      " [   9.8    6.7]\n",
      " [  10.5    7.5]\n",
      " [  10.6    7. ]\n",
      " [  11.     9.7]\n",
      " [  11.2    9.8]\n",
      " [  11.3    8.7]\n",
      " [  11.8   10. ]\n",
      " [  11.8    9.9]\n",
      " [  12.     9.8]\n",
      " [  12.2   12.2]\n",
      " [  12.4   13.4]\n",
      " [  13.    12.2]\n",
      " [  14.3   19.7]\n",
      " [  15.    19.9]]\n"
     ]
    }
   ],
   "source": [
    "#kneighborclassifier클래스의 속성에 데이터를 모두 저장해 둡니다. \n",
    "print(kn._fit_X)"
   ]
  },
  {
   "cell_type": "code",
   "execution_count": 28,
   "metadata": {},
   "outputs": [
    {
     "name": "stdout",
     "output_type": "stream",
     "text": [
      "[1 1 1 1 1 1 1 1 1 1 1 1 1 1 1 1 1 1 1 1 1 1 1 1 1 1 1 1 1 1 1 1 1 1 1 0 0\n",
      " 0 0 0 0 0 0 0 0 0 0 0 0]\n"
     ]
    }
   ],
   "source": [
    "print(kn._y)"
   ]
  },
  {
   "cell_type": "code",
   "execution_count": 30,
   "metadata": {},
   "outputs": [],
   "source": [
    "#knn모델로 예측할 때 주변친구를 확인하는 기본 갯수는 5개입니다. \n",
    "knn = KNeighborsClassifier(n_neighbors=49)\n",
    "#모든 데이터의 갯수만큼을 참고한다고 하면 어떤 데이터를 넣어도 도미로 예측이 됩니다. 왜냐면 도미가 다수를 차지하기 때문입니다."
   ]
  },
  {
   "cell_type": "code",
   "execution_count": 32,
   "metadata": {},
   "outputs": [
    {
     "data": {
      "text/plain": [
       "0.7142857142857143"
      ]
     },
     "execution_count": 32,
     "metadata": {},
     "output_type": "execute_result"
    }
   ],
   "source": [
    "knn.fit(fish_data, fish_target)\n",
    "knn.score(fish_data, fish_target)"
   ]
  },
  {
   "cell_type": "code",
   "execution_count": 34,
   "metadata": {},
   "outputs": [
    {
     "name": "stdout",
     "output_type": "stream",
     "text": [
      "0.7142857142857143\n"
     ]
    }
   ],
   "source": [
    "print(35/49) #빙어는 하나도 맞추지 못하기 때문에 전체 데이터에서 도미의 수만큼을 나타내는 계산과 정확도가 같다. "
   ]
  },
  {
   "cell_type": "markdown",
   "metadata": {},
   "source": [
    "### 문제해결과정 \n",
    "\n",
    "1) 데이터의 특성을 각각 리스트로 만듭니다.   \n",
    "2) 도미와 빙어의 데이터를 합쳐 리스트의 리스트로 만듭니다. \n",
    "3) knn알고리즘을 sklearn에서 import합니다. k는 기본 5개로 설정됩니다.  \n",
    "4) 주변에 가장 가까운 5개를 찾고 하여 새로운 데이터를 predict합니다. "
   ]
  },
  {
   "cell_type": "code",
   "execution_count": null,
   "metadata": {},
   "outputs": [],
   "source": []
  }
 ],
 "metadata": {
  "kernelspec": {
   "display_name": "aiffel",
   "language": "python",
   "name": "aiffel"
  },
  "language_info": {
   "codemirror_mode": {
    "name": "ipython",
    "version": 3
   },
   "file_extension": ".py",
   "mimetype": "text/x-python",
   "name": "python",
   "nbconvert_exporter": "python",
   "pygments_lexer": "ipython3",
   "version": "3.7.9"
  }
 },
 "nbformat": 4,
 "nbformat_minor": 4
}
