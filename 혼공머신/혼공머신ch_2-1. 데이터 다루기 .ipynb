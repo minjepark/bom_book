{
 "cells": [
  {
   "cell_type": "markdown",
   "id": "august-encoding",
   "metadata": {},
   "source": [
    "## 02-1. 훈련세트와 테스트 세트 \n",
    "\n",
    "## 지도학습과 비지도 학습의 차이를 배웁니다. 훈련세트와 테스트 세트로 데이터를 나눠서 학습을 합니다. \n",
    "\n",
    "### 용어정리 \n",
    "\n",
    "**지도학습**: 지도학습 데이터를 train시키려면 데이터와 정답이 필요합니다. \n",
    "\n",
    "**비지도학습**: target없이 입력 데이터를 사용합니다. \n",
    "\n",
    "**index**: 배열의 위치,인덱스는 0부터 시작합니다. \n",
    "\n",
    "**slicing**: 콜론을 가운데 두고, 인덱스의 범위를 지정하여 여러개의 원소 선택이 가능합니다. \n",
    "\n",
    "**샘플링편향**: 훈련데이터와 테스트 데이터의 샘플이 골고루 섞여 있지 않으면 샘플링이 한 쪽으로 치우쳤다는 의미입니다. \n",
    "\n",
    "**차원**: 배열에서 차원은 좌표계의 축을 나타냅니다. \n",
    "    \n",
    "### 주의사항\n",
    "\n",
    "* 넘파이에서 무작위 결과를 만드는 함수들은 실행할 때마다 다른 결과를 출력합니다. \n",
    "* 일정한 결과를 출력하기 위해 random_seed를 설정해야 합니다. \n",
    "* scikit-learn의 모든 것은 넘파이 배열입니다. \n",
    "* seed() 넘파이에서 난수를 생성하기 위해 정수 초깃값을 지정해야합니다. 랜덤함수의 결과를 동일하게 만들려고 지정합니다. \n",
    "\n",
    "\n",
    "지도학습에서 데이터는 input 정답은 target이라고 합니다. input + target을 train data라고 합니다.     \n",
    "비지도학습은 target이 주어지지 않습니다. 그래서 데이터를 잘 파악하거나 변형하는데 도움을 줍니다. \n",
    "\n",
    "### 훈련세트와 테스트 세트 \n",
    "\n",
    "정확한 성능을 측정하기 위해서는 train set과 test set을 구분해야 합니다. \n",
    "\n",
    "1) 전체 데이터에서 train과 test set을 분할합니다. \n",
    "2) 새로운 test data를 추가합니다. "
   ]
  },
  {
   "cell_type": "code",
   "execution_count": 1,
   "id": "excessive-discipline",
   "metadata": {},
   "outputs": [],
   "source": [
    "#데이터의 특성데이터\n",
    "\n",
    "\n",
    "fish_length = [25.4, 26.3, 26.5, 29.0, 29.0, 29.7, 29.7, 30.0, 30.0, 30.7, 31.0, 31.0, \n",
    "                31.5, 32.0, 32.0, 32.0, 33.0, 33.0, 33.5, 33.5, 34.0, 34.0, 34.5, 35.0, \n",
    "                35.0, 35.0, 35.0, 36.0, 36.0, 37.0, 38.5, 38.5, 39.5, 41.0, 41.0, 9.8, \n",
    "                10.5, 10.6, 11.0, 11.2, 11.3, 11.8, 11.8, 12.0, 12.2, 12.4, 13.0, 14.3, 15.0]\n",
    "fish_weight = [242.0, 290.0, 340.0, 363.0, 430.0, 450.0, 500.0, 390.0, 450.0, 500.0, 475.0, 500.0, \n",
    "                500.0, 340.0, 600.0, 600.0, 700.0, 700.0, 610.0, 650.0, 575.0, 685.0, 620.0, 680.0, \n",
    "                700.0, 725.0, 720.0, 714.0, 850.0, 1000.0, 920.0, 955.0, 925.0, 975.0, 950.0, 6.7, \n",
    "                7.5, 7.0, 9.7, 9.8, 8.7, 10.0, 9.9, 9.8, 12.2, 13.4, 12.2, 19.7, 19.9]"
   ]
  },
  {
   "cell_type": "code",
   "execution_count": 2,
   "id": "possible-consensus",
   "metadata": {},
   "outputs": [],
   "source": [
    "# 두 리스트를 돌면서 각 생선의 길이와 무게를 하나의 리스트로 담는 2차원리스트를 만들겠습니다. \n",
    "fish_data = [[l,m] for l,m in zip(fish_length, fish_weight)]\n",
    "fish_target = [1]*35 + [0]*14"
   ]
  },
  {
   "cell_type": "code",
   "execution_count": 3,
   "id": "chubby-viewer",
   "metadata": {},
   "outputs": [],
   "source": [
    "# train, test set을 분할합니다. 앞쪽은 35의 샘플은 train 뒤는 test 입니다.  knn을 사용합니다. \n",
    "from sklearn.neighbors import KNeighborsClassifier\n",
    "kn = KNeighborsClassifier()"
   ]
  },
  {
   "cell_type": "code",
   "execution_count": 4,
   "id": "english-tracker",
   "metadata": {},
   "outputs": [
    {
     "name": "stdout",
     "output_type": "stream",
     "text": [
      "[25.4, 242.0]\n"
     ]
    }
   ],
   "source": [
    "print(fish_data[0])"
   ]
  },
  {
   "cell_type": "code",
   "execution_count": 5,
   "id": "generic-harvest",
   "metadata": {},
   "outputs": [
    {
     "name": "stdout",
     "output_type": "stream",
     "text": [
      "[[25.4, 242.0], [26.3, 290.0], [26.5, 340.0], [29.0, 363.0], [29.0, 430.0]]\n"
     ]
    }
   ],
   "source": [
    "#slicing해보도록 하겠습니다. \n",
    "#slicing의 마지막 인덱스의 원소는 미포합입니다. \n",
    "print(fish_data[:5])"
   ]
  },
  {
   "cell_type": "code",
   "execution_count": 6,
   "id": "stuck-system",
   "metadata": {},
   "outputs": [
    {
     "name": "stdout",
     "output_type": "stream",
     "text": [
      "[[12.2, 12.2], [12.4, 13.4], [13.0, 12.2], [14.3, 19.7], [15.0, 19.9]]\n"
     ]
    }
   ],
   "source": [
    "#slicing시 마지막까지 모두 지정할 경우[44:] 이렇게 표현이 가능합니다. \n",
    "print(fish_data[44:])"
   ]
  },
  {
   "cell_type": "code",
   "execution_count": 7,
   "id": "molecular-canal",
   "metadata": {},
   "outputs": [],
   "source": [
    "train_input = fish_data[:35]\n",
    "#훈련 세트로  target값 중 34번째 인덱스까지 사용해야 35개 사용하는 겁니다. \n",
    "\n",
    "train_target = fish_target[:35]\n",
    "\n",
    "#testset을 나눠보도록 하겠습니다. \n",
    "test_input = fish_data[35:]\n",
    "test_target = fish_target[35:]"
   ]
  },
  {
   "cell_type": "code",
   "execution_count": 8,
   "id": "expanded-synthetic",
   "metadata": {},
   "outputs": [
    {
     "data": {
      "text/plain": [
       "0.0"
      ]
     },
     "execution_count": 8,
     "metadata": {},
     "output_type": "execute_result"
    }
   ],
   "source": [
    "#훈련시키고 스코어를 확인하도록 하겠습니다. \n",
    "kn.fit(train_input, train_target)\n",
    "kn.score(test_input, test_target)"
   ]
  },
  {
   "cell_type": "markdown",
   "id": "retired-adrian",
   "metadata": {},
   "source": [
    "### 샘플링 편향은 도미공부만 한 컴퓨터에게 빙어를 맞춰보라는 것입니다. \n",
    "    처음 본 것인데 어떻게 맞출 수 있나요. 당연히 정확도가 0이 나오겠죠. \n",
    "    문제해결: 샘플을 골고루 섞어보도록 하겠습니다. \n",
    "<br/>\n",
    "\n",
    "### 넘파이\n",
    "\n",
    "대표적인 배열 라이브러리 \n",
    "\n",
    "장점: 파이썬의 리스트로 고차원리스트를 만드는게 어려운데 넘파이를 활용하면 고차원 리스트로 쉽게 만들 수 있습니다. \n",
    "* 배열 인덱싱: 여러개의 인덱스로 한 번에 여러 개의 원소를 선택합니다. \n",
    "\n",
    "`np.array()` : 배열로 만들기 \n",
    "`np.arange(N)`: 숫자 1개면 n-1까지 숫자 생성\n",
    "`np.random.shuffle()`: 다차원 배열일 경우에는 첫 번째 축( \n",
    "<br/>\n",
    "#### 데이터를 섞는 방법\n",
    "\n",
    "1) 무작위로 샘플을 고른다.  \n",
    "2) 데이터를 섞은 후 train과 test를 나눈다. \n"
   ]
  },
  {
   "cell_type": "code",
   "execution_count": 9,
   "id": "identical-liver",
   "metadata": {},
   "outputs": [],
   "source": [
    "#생선데이터를 2차원 넘파이 배열로 나타내보도록 하겠습니다. \n",
    "import numpy as np"
   ]
  },
  {
   "cell_type": "code",
   "execution_count": 10,
   "id": "chinese-pension",
   "metadata": {},
   "outputs": [],
   "source": [
    "#np.array()를 사용하여 파이썬 리스트를 넘파이 리스트로 바꿀 수 있습니다. \n",
    "\n",
    "input_arr = np.array(fish_data)\n",
    "target_arr = np.array(fish_target)"
   ]
  },
  {
   "cell_type": "code",
   "execution_count": 11,
   "id": "cooperative-legend",
   "metadata": {},
   "outputs": [
    {
     "name": "stdout",
     "output_type": "stream",
     "text": [
      "[[  25.4  242. ]\n",
      " [  26.3  290. ]\n",
      " [  26.5  340. ]\n",
      " [  29.   363. ]\n",
      " [  29.   430. ]\n",
      " [  29.7  450. ]\n",
      " [  29.7  500. ]\n",
      " [  30.   390. ]\n",
      " [  30.   450. ]\n",
      " [  30.7  500. ]\n",
      " [  31.   475. ]\n",
      " [  31.   500. ]\n",
      " [  31.5  500. ]\n",
      " [  32.   340. ]\n",
      " [  32.   600. ]\n",
      " [  32.   600. ]\n",
      " [  33.   700. ]\n",
      " [  33.   700. ]\n",
      " [  33.5  610. ]\n",
      " [  33.5  650. ]\n",
      " [  34.   575. ]\n",
      " [  34.   685. ]\n",
      " [  34.5  620. ]\n",
      " [  35.   680. ]\n",
      " [  35.   700. ]\n",
      " [  35.   725. ]\n",
      " [  35.   720. ]\n",
      " [  36.   714. ]\n",
      " [  36.   850. ]\n",
      " [  37.  1000. ]\n",
      " [  38.5  920. ]\n",
      " [  38.5  955. ]\n",
      " [  39.5  925. ]\n",
      " [  41.   975. ]\n",
      " [  41.   950. ]\n",
      " [   9.8    6.7]\n",
      " [  10.5    7.5]\n",
      " [  10.6    7. ]\n",
      " [  11.     9.7]\n",
      " [  11.2    9.8]\n",
      " [  11.3    8.7]\n",
      " [  11.8   10. ]\n",
      " [  11.8    9.9]\n",
      " [  12.     9.8]\n",
      " [  12.2   12.2]\n",
      " [  12.4   13.4]\n",
      " [  13.    12.2]\n",
      " [  14.3   19.7]\n",
      " [  15.    19.9]]\n",
      "49\n"
     ]
    }
   ],
   "source": [
    "print(input_arr)\n",
    "#np는 2차원으로 예쁘게 행과 열을 가지런히 출력합니다. \n",
    "print(len(input_arr))"
   ]
  },
  {
   "cell_type": "code",
   "execution_count": 12,
   "id": "facial-booking",
   "metadata": {},
   "outputs": [
    {
     "name": "stdout",
     "output_type": "stream",
     "text": [
      "(49, 2)\n"
     ]
    }
   ],
   "source": [
    "print(input_arr.shape)# shape은 np에서 사용이 가능합니다. 샘플수와 특성수를 알려줍니다. "
   ]
  },
  {
   "cell_type": "code",
   "execution_count": 13,
   "id": "juvenile-swimming",
   "metadata": {},
   "outputs": [],
   "source": [
    "#index를 사용하여 input과 target arr는 같은 위치에서 선택되도록 한다. \n",
    "#arange()함수를 사용하여 1씩 증가하는 index를 생성하기 \n",
    "np.random.seed(42) #동일한 결과가 나오도록 하려면 random.seed를 설정해야합니다. \n",
    "index= np.arange(49)# np.arange()를 통해 index를 생성합니다. np.arrange(N)은 0부터 N-1까지 1씩 증가하는 배열을 만듭니다.\n",
    "np.random.shuffle(index)#인덱스를 섞습니다. "
   ]
  },
  {
   "cell_type": "code",
   "execution_count": 14,
   "id": "general-literature",
   "metadata": {},
   "outputs": [
    {
     "name": "stdout",
     "output_type": "stream",
     "text": [
      "[13 45 47 44 17 27 26 25 31 19 12  4 34  8  3  6 40 41 46 15  9 16 24 33\n",
      " 30  0 43 32  5 29 11 36  1 21  2 37 35 23 39 10 22 18 48 20  7 42 14 28\n",
      " 38]\n"
     ]
    }
   ],
   "source": [
    "print(index)# 만들어진 인덱스를 출력합니다. "
   ]
  },
  {
   "cell_type": "code",
   "execution_count": 15,
   "id": "extended-tribune",
   "metadata": {},
   "outputs": [],
   "source": [
    "#넘파이 배열인덱싱 기능을 활용해서 섞인 인덱스에 배열을 붙여보도록 하겠습니다. \n",
    "\n",
    "train_input = input_arr[index[:35]] #index 의 34번까지의 요소들을 input_arr순서를 갖는 값들을 train_input으로 나타낸다. \n",
    "train_target = target_arr[index[:35]]"
   ]
  },
  {
   "cell_type": "code",
   "execution_count": 16,
   "id": "israeli-atlantic",
   "metadata": {},
   "outputs": [
    {
     "name": "stdout",
     "output_type": "stream",
     "text": [
      "[ 32. 340.] [ 32. 340.]\n"
     ]
    }
   ],
   "source": [
    "print(input_arr[13], train_input[0])"
   ]
  },
  {
   "cell_type": "code",
   "execution_count": 17,
   "id": "ecological-plaza",
   "metadata": {},
   "outputs": [],
   "source": [
    "#testset만들기 \n",
    "test_input = input_arr[index[35:]]\n",
    "test_target = target_arr[index[35:]]"
   ]
  },
  {
   "cell_type": "code",
   "execution_count": 18,
   "id": "harmful-cooperative",
   "metadata": {},
   "outputs": [
    {
     "data": {
      "image/png": "[encoded data removed]",
      "text/plain": [
       "<Figure size 432x288 with 1 Axes>"
      ]
     },
     "metadata": {
      "needs_background": "light"
     },
     "output_type": "display_data"
    }
   ],
   "source": [
    "#잘 섞였는지 산점도로 그려봅니다. \n",
    "import matplotlib.pyplot as plt \n",
    "\n",
    "plt.scatter(train_input[:,0],train_input[:,1]) #x축이 길이, y축이 무게로 된 train_input 데이터 그려보기 \n",
    "plt.scatter(test_input[:,0], test_input[:,1])\n",
    "plt.xlabel('length')\n",
    "plt.ylabel('weight')\n",
    "plt.show()\n",
    "#train과 test에 데이터가 잘 분포되어 있네요. "
   ]
  },
  {
   "cell_type": "markdown",
   "id": "activated-printing",
   "metadata": {},
   "source": [
    "### 학습시키기 \n",
    "### knn알고리즘을 활용합니다. "
   ]
  },
  {
   "cell_type": "code",
   "execution_count": 19,
   "id": "hindu-palace",
   "metadata": {},
   "outputs": [
    {
     "data": {
      "text/plain": [
       "KNeighborsClassifier()"
      ]
     },
     "execution_count": 19,
     "metadata": {},
     "output_type": "execute_result"
    }
   ],
   "source": [
    "kn.fit(train_input, train_target)"
   ]
  },
  {
   "cell_type": "code",
   "execution_count": 20,
   "id": "public-spare",
   "metadata": {},
   "outputs": [
    {
     "data": {
      "text/plain": [
       "1.0"
      ]
     },
     "execution_count": 20,
     "metadata": {},
     "output_type": "execute_result"
    }
   ],
   "source": [
    "# 성능측정을 해보도록 하겠습니다. \n",
    "kn.score(test_input, test_target)"
   ]
  },
  {
   "cell_type": "code",
   "execution_count": 21,
   "id": "funded-fiction",
   "metadata": {},
   "outputs": [
    {
     "data": {
      "text/plain": [
       "array([0, 0, 1, 0, 1, 1, 1, 0, 1, 1, 0, 1, 1, 0])"
      ]
     },
     "execution_count": 21,
     "metadata": {},
     "output_type": "execute_result"
    }
   ],
   "source": [
    "kn.predict(test_input)# test의 예측결과 출력\n",
    "#넘파이 리스트를 반환합니다. "
   ]
  },
  {
   "cell_type": "code",
   "execution_count": 22,
   "id": "terminal-importance",
   "metadata": {},
   "outputs": [
    {
     "data": {
      "text/plain": [
       "array([0, 0, 1, 0, 1, 1, 1, 0, 1, 1, 0, 1, 1, 0])"
      ]
     },
     "execution_count": 22,
     "metadata": {},
     "output_type": "execute_result"
    }
   ],
   "source": [
    "test_target #test의 실제 결과 출력 "
   ]
  },
  {
   "cell_type": "code",
   "execution_count": null,
   "id": "royal-optimum",
   "metadata": {},
   "outputs": [],
   "source": []
  }
 ],
 "metadata": {
  "kernelspec": {
   "display_name": "aiffel",
   "language": "python",
   "name": "aiffel"
  },
  "language_info": {
   "codemirror_mode": {
    "name": "ipython",
    "version": 3
   },
   "file_extension": ".py",
   "mimetype": "text/x-python",
   "name": "python",
   "nbconvert_exporter": "python",
   "pygments_lexer": "ipython3",
   "version": "3.7.9"
  }
 },
 "nbformat": 4,
 "nbformat_minor": 5
}
