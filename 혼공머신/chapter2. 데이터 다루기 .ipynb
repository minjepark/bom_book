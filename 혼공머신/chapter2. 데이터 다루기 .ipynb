{
 "cells": [
  {
   "cell_type": "code",
   "execution_count": 1,
   "id": "interested-destination",
   "metadata": {},
   "outputs": [],
   "source": [
    "##02-1. 훈련세트와 테스트 세트 \n",
    "fish_length = [25.4, 26.3, 26.5, 29.0, 29.0, 29.7, 29.7, 30.0, 30.0, 30.7, 31.0, 31.0, \n",
    "                31.5, 32.0, 32.0, 32.0, 33.0, 33.0, 33.5, 33.5, 34.0, 34.0, 34.5, 35.0, \n",
    "                35.0, 35.0, 35.0, 36.0, 36.0, 37.0, 38.5, 38.5, 39.5, 41.0, 41.0, 9.8, \n",
    "                10.5, 10.6, 11.0, 11.2, 11.3, 11.8, 11.8, 12.0, 12.2, 12.4, 13.0, 14.3, 15.0]\n",
    "fish_weight = [242.0, 290.0, 340.0, 363.0, 430.0, 450.0, 500.0, 390.0, 450.0, 500.0, 475.0, 500.0, \n",
    "                500.0, 340.0, 600.0, 600.0, 700.0, 700.0, 610.0, 650.0, 575.0, 685.0, 620.0, 680.0, \n",
    "                700.0, 725.0, 720.0, 714.0, 850.0, 1000.0, 920.0, 955.0, 925.0, 975.0, 950.0, 6.7, \n",
    "                7.5, 7.0, 9.7, 9.8, 8.7, 10.0, 9.9, 9.8, 12.2, 13.4, 12.2, 19.7, 19.9]"
   ]
  },
  {
   "cell_type": "code",
   "execution_count": 2,
   "id": "shared-purpose",
   "metadata": {},
   "outputs": [],
   "source": [
    "#두 파이썬 리스트를 순회하면서 각 생선의 길이와 무게를 하나의 리스트로 담는 2차원 리스트 만들기 \n",
    "fish_data = [[l,w] for l,w in zip(fish_length,fish_weight)]\n",
    "fish_target = [1]*35 +[0]*14"
   ]
  },
  {
   "cell_type": "code",
   "execution_count": 3,
   "id": "eight-gateway",
   "metadata": {},
   "outputs": [],
   "source": [
    "from sklearn.neighbors import KNeighborsClassifier\n",
    "kn = KNeighborsClassifier()"
   ]
  },
  {
   "cell_type": "code",
   "execution_count": 5,
   "id": "bridal-milwaukee",
   "metadata": {},
   "outputs": [
    {
     "name": "stdout",
     "output_type": "stream",
     "text": [
      "[29.0, 430.0]\n",
      "[[25.4, 242.0], [26.3, 290.0], [26.5, 340.0], [29.0, 363.0], [29.0, 430.0], [29.7, 450.0]]\n"
     ]
    }
   ],
   "source": [
    "print(fish_data[4])\n",
    "print(fish_data[:6])"
   ]
  },
  {
   "cell_type": "code",
   "execution_count": 6,
   "id": "micro-terrain",
   "metadata": {},
   "outputs": [],
   "source": [
    "#데이터 인덱싱 넣어주기 \n",
    "train_input = fish_data[:35]\n",
    "train_target = fish_target[:35]\n",
    "test_input = fish_data[35:]\n",
    "test_target = fish_target[35:]"
   ]
  },
  {
   "cell_type": "code",
   "execution_count": 7,
   "id": "differential-treatment",
   "metadata": {},
   "outputs": [
    {
     "data": {
      "text/plain": [
       "0.0"
      ]
     },
     "execution_count": 7,
     "metadata": {},
     "output_type": "execute_result"
    }
   ],
   "source": [
    "#데이터를 준비했으니 훈련세트로 fit() #메서드를 호출해 모델을 훈련하고, 테스트세트로 score() 메서드를 호출해 평가해보기 \n",
    "kn = kn.fit(train_input, train_target)\n",
    "kn.score(test_input, test_target)"
   ]
  },
  {
   "cell_type": "code",
   "execution_count": 8,
   "id": "whole-relief",
   "metadata": {},
   "outputs": [],
   "source": [
    "#샘플링 편향이 일어났네요. \n",
    "#샘플링 편향이란..?\n",
    "#샘플링 편향이란: 훈련세트와 테스트세트에 샘플이 골고루 섞이지 않으면 샘플링 편향(sampling bias)가 생깁니다. \n",
    "#농어와 빙어가 순서대로 들어있어서 마지막만 잘라내면 빙어만 나오게 되니깐 test셋에는 농어가 한마리도 없는 상황이 발생했네요.\n",
    "\n",
    "#데이터를 섞어주기 위한 넘파이 불러오기!\n",
    "#넘파이란?: 고차원 배열을 손쉽게 만들고 조작할 수 있는 도구가 많아요! 배열 라이브러리\n",
    "import numpy as np"
   ]
  },
  {
   "cell_type": "code",
   "execution_count": 9,
   "id": "coordinated-private",
   "metadata": {},
   "outputs": [
    {
     "name": "stdout",
     "output_type": "stream",
     "text": [
      "[[  25.4  242. ]\n",
      " [  26.3  290. ]\n",
      " [  26.5  340. ]\n",
      " [  29.   363. ]\n",
      " [  29.   430. ]\n",
      " [  29.7  450. ]\n",
      " [  29.7  500. ]\n",
      " [  30.   390. ]\n",
      " [  30.   450. ]\n",
      " [  30.7  500. ]\n",
      " [  31.   475. ]\n",
      " [  31.   500. ]\n",
      " [  31.5  500. ]\n",
      " [  32.   340. ]\n",
      " [  32.   600. ]\n",
      " [  32.   600. ]\n",
      " [  33.   700. ]\n",
      " [  33.   700. ]\n",
      " [  33.5  610. ]\n",
      " [  33.5  650. ]\n",
      " [  34.   575. ]\n",
      " [  34.   685. ]\n",
      " [  34.5  620. ]\n",
      " [  35.   680. ]\n",
      " [  35.   700. ]\n",
      " [  35.   725. ]\n",
      " [  35.   720. ]\n",
      " [  36.   714. ]\n",
      " [  36.   850. ]\n",
      " [  37.  1000. ]\n",
      " [  38.5  920. ]\n",
      " [  38.5  955. ]\n",
      " [  39.5  925. ]\n",
      " [  41.   975. ]\n",
      " [  41.   950. ]\n",
      " [   9.8    6.7]\n",
      " [  10.5    7.5]\n",
      " [  10.6    7. ]\n",
      " [  11.     9.7]\n",
      " [  11.2    9.8]\n",
      " [  11.3    8.7]\n",
      " [  11.8   10. ]\n",
      " [  11.8    9.9]\n",
      " [  12.     9.8]\n",
      " [  12.2   12.2]\n",
      " [  12.4   13.4]\n",
      " [  13.    12.2]\n",
      " [  14.3   19.7]\n",
      " [  15.    19.9]]\n"
     ]
    }
   ],
   "source": [
    "input_arr = np.array(fish_data)\n",
    "target_arr = np.array(fish_target)\n",
    "print(input_arr)"
   ]
  },
  {
   "cell_type": "code",
   "execution_count": 10,
   "id": "finite-marker",
   "metadata": {},
   "outputs": [
    {
     "name": "stdout",
     "output_type": "stream",
     "text": [
      "(49, 2)\n"
     ]
    }
   ],
   "source": [
    "#numpy는 shape을 찍어 볼 수있습니다. \n",
    "print(input_arr.shape) #이 명령어를 사용하면 (샘플수, 특성 수)를 알 수 있습니다. "
   ]
  },
  {
   "cell_type": "code",
   "execution_count": 12,
   "id": "joined-yellow",
   "metadata": {},
   "outputs": [
    {
     "name": "stdout",
     "output_type": "stream",
     "text": [
      "[13 45 47 44 17 27 26 25 31 19 12  4 34  8  3  6 40 41 46 15  9 16 24 33\n",
      " 30  0 43 32  5 29 11 36  1 21  2 37 35 23 39 10 22 18 48 20  7 42 14 28\n",
      " 38]\n"
     ]
    }
   ],
   "source": [
    "#배열을 섞은 후에 인덱스를 넣어주기 \n",
    "#index를 만들고 input_arr와 target_arr에서 샘플을 선택하기 \n",
    "#index생성하기: numpy.arange()함수 사용하기 \n",
    "np.random.seed(42)#넘파이  random은 실행할 때마다 다른 결과가 나오니깐 일정한 결과를 얻기위해 초기값 지정.\n",
    "index = np.arange(49)#0~48까지 배열을 만들어주라는 이야기 \n",
    "np.random.shuffle(index)#주어진 배열을 무작위로 섞기 \n",
    "print(index)"
   ]
  },
  {
   "cell_type": "code",
   "execution_count": null,
   "id": "egyptian-logistics",
   "metadata": {},
   "outputs": [],
   "source": [
    "#랜덤하기 섞인 인덱스를 사용해서 전체 데이터를 훈련set과 testset으로 나누기 \n",
    "#배열 인데깅"
   ]
  }
 ],
 "metadata": {
  "kernelspec": {
   "display_name": "aiffel",
   "language": "python",
   "name": "aiffel"
  },
  "language_info": {
   "codemirror_mode": {
    "name": "ipython",
    "version": 3
   },
   "file_extension": ".py",
   "mimetype": "text/x-python",
   "name": "python",
   "nbconvert_exporter": "python",
   "pygments_lexer": "ipython3",
   "version": "3.7.9"
  }
 },
 "nbformat": 4,
 "nbformat_minor": 5
}
