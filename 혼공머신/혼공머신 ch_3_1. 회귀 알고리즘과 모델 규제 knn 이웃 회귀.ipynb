{
 "cells": [
  {
   "cell_type": "code",
   "execution_count": null,
   "id": "reliable-judgment",
   "metadata": {},
   "outputs": [],
   "source": [
    "#이제 분류가 아닌 회귀이다! \n",
    "\n",
    "2장에서는 어떤 클래스에 속하는지를 확인했다면 3장에서는 특성을 파악해서 **특정값**을 예측을 합니다. \n",
    "\n",
    "지도학습의 가장 큰 "
   ]
  }
 ],
 "metadata": {
  "kernelspec": {
   "display_name": "aiffel",
   "language": "python",
   "name": "aiffel"
  },
  "language_info": {
   "codemirror_mode": {
    "name": "ipython",
    "version": 3
   },
   "file_extension": ".py",
   "mimetype": "text/x-python",
   "name": "python",
   "nbconvert_exporter": "python",
   "pygments_lexer": "ipython3",
   "version": "3.7.9"
  }
 },
 "nbformat": 4,
 "nbformat_minor": 5
}
