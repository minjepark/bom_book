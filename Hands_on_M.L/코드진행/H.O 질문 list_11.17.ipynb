{
 "cells": [
  {
   "cell_type": "markdown",
   "metadata": {},
   "source": [
    "#### 1. 머신러닝은 어떻게 정의 할 수있을까? "
   ]
  },
  {
   "cell_type": "markdown",
   "metadata": {},
   "source": [
    "컴퓨터가 어떤 tesk를 수행하면서 성능이 향상되었다면 경험을 학습하게 되는 것입니다. \n",
    "\n",
    "하지만 저는 기계를 똑똑하게 만들어 주는거라고 생각합니다. \n",
    "\n",
    "아무것도 모르던 컴퓨터가 내가 문제를 내고, 정답을 주면서 아하! 이거구나!!!라고 깨닫게 만들어주거나, \n",
    "\n",
    "많은 데이터를 받아서 논리적인 근거로 결론을 내릴 수 있는 사고력을 키우는 거라고 생각합니다. "
   ]
  },
  {
   "cell_type": "markdown",
   "metadata": {},
   "source": [
    "#### 2. 고객을 여러 그룹으로 분할하려면 어떤 알고리즘을 사용해야 하나요?"
   ]
  },
  {
   "cell_type": "markdown",
   "metadata": {},
   "source": [
    "고객이 분할하려면 음 머가 좋을까? \n",
    "\n",
    "특성을 추출해보자 추출특성을 섞어도 보자 \n",
    "음 보니깐 모르겠다 일단 학습시켜보고.. 거기서 어떻게 나눌지 봐야겠다...\n",
    "\n",
    "아..이렇게 분할되네.. 비지도학습 클러스터링ㅎ도 좋고 \n",
    "만약 그룹을 알면 분류모델을 쓰면 좋겠네요ㅎ\n"
   ]
  },
  {
   "cell_type": "markdown",
   "metadata": {},
   "source": [
    "#### 3. 머신러닝의 주요 도전 과제는 무엇일까요? "
   ]
  },
  {
   "cell_type": "markdown",
   "metadata": {},
   "source": [
    "오버피팅 시키지 않기 \n",
    "\n",
    "부족한 데이터로 학습이 잘 안될텐데..어떡하지? \n",
    "봐봐 데이터가 부족하니깐... 특성추출이 잘 못 되잖아... 예측이 망했네.\n",
    "\n",
    "아..데이터가 많은데 표본을 추출을 잘 못했군..망했다. 편향이 생기겠군.\n",
    "데이터 중요하네.. 근데 데이터 많이 만들려면 돈 많이 드는데 어떡하지...\n",
    "\n",
    "모델을 잘 사용해봐야겠구만. \n",
    "모델 겁나 많아. 어떤게 좋을까? 다 돌려봐야지.. 시간이 많이 들겠고만. \n",
    "오버피팅되네. \n",
    "\n",
    "모델을 좀 더 쉽게 만들어야겠다. regulization시키려면 파라미터에 규제 좀 걸어봐야지 \n",
    "간단한 모델을 쓸까? 아니다아니다. 이상치나 오류를 수정해봐야겠다. \n",
    "\n",
    "머여...underfitting됐다.. 강력한 모델을 사용해야겠군..\n",
    "모델 막 살라고 해보자. 제약을 줄여보자ㅎㅎ \n",
    "\n",
    "아 이제 괜찮게 돌아가네..근데 나는 집에 언제가지??\n",
    "\n"
   ]
  },
  {
   "cell_type": "markdown",
   "metadata": {},
   "source": [
    "#### 4. L1, L2란 무엇이며, 그림으로 나타 내보세요.  "
   ]
  },
  {
   "cell_type": "code",
   "execution_count": null,
   "metadata": {},
   "outputs": [],
   "source": [
    "l1 놈놈 하는 것입니다. "
   ]
  },
  {
   "cell_type": "markdown",
   "metadata": {},
   "source": [
    "#### 5. mkdir의 약자는? "
   ]
  },
  {
   "cell_type": "markdown",
   "metadata": {},
   "source": [
    "폴더를 만들자. make directory"
   ]
  },
  {
   "cell_type": "markdown",
   "metadata": {},
   "source": [
    "#### 6. pip 와 pip3은 어떻게 다른가요?  "
   ]
  },
  {
   "cell_type": "markdown",
   "metadata": {},
   "source": [
    "버전이 다릅니다ㅎ\n",
    "\n",
    "pip의 경우는 python2에서 \n",
    "pip3은 python3의 환경을 사용하고 싶은 경우에 사용하는 install명령어입니다. "
   ]
  },
  {
   "cell_type": "markdown",
   "metadata": {},
   "source": [
    "#### 7.source 와 conda는 무엇이고, 어떻게 다른가요?  "
   ]
  },
  {
   "cell_type": "code",
   "execution_count": null,
   "metadata": {},
   "outputs": [],
   "source": [
    "소스는 환경설정 명령어가 코다보다 다소 길어보입니다. "
   ]
  },
  {
   "cell_type": "markdown",
   "metadata": {},
   "source": [
    "#### 8. 아래의 코드에서 strat_test_set으로 나누는 이유는 무엇인가요? "
   ]
  },
  {
   "cell_type": "code",
   "execution_count": null,
   "metadata": {},
   "outputs": [],
   "source": [
    "strat_test_set['income_cat'].value_counts() / len(strat_test_set)\n",
    "\n",
    "소득이 중요한 특성이기에 소득샘플링이 테스트셋에서 차지하는 비율을 알아보고자합니다. "
   ]
  },
  {
   "cell_type": "markdown",
   "metadata": {},
   "source": [
    "#### 9. 상관관계의 정의는 무엇인가요?  "
   ]
  },
  {
   "cell_type": "markdown",
   "metadata": {},
   "source": [
    "상관관계는 -1~1까지의 범위에서 얼마나 상관이 있는지 확인하는 것입니다ㅎ"
   ]
  },
  {
   "cell_type": "markdown",
   "metadata": {},
   "source": [
    " "
   ]
  },
  {
   "cell_type": "code",
   "execution_count": null,
   "metadata": {},
   "outputs": [],
   "source": []
  }
 ],
 "metadata": {
  "kernelspec": {
   "display_name": "aiffel",
   "language": "python",
   "name": "aiffel"
  },
  "language_info": {
   "codemirror_mode": {
    "name": "ipython",
    "version": 3
   },
   "file_extension": ".py",
   "mimetype": "text/x-python",
   "name": "python",
   "nbconvert_exporter": "python",
   "pygments_lexer": "ipython3",
   "version": "3.7.7"
  }
 },
 "nbformat": 4,
 "nbformat_minor": 4
}
